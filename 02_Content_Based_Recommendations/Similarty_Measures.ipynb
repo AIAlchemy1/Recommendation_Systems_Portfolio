{
  "cells": [
    {
      "cell_type": "markdown",
      "metadata": {
        "id": "view-in-github",
        "colab_type": "text"
      },
      "source": [
        "<a href=\"https://colab.research.google.com/github/AIAlchemy1/Recommendation_Systems_Portfolio/blob/main/02_Content_Based_Recommendations/Similarty_Measures.ipynb\" target=\"_parent\"><img src=\"https://colab.research.google.com/assets/colab-badge.svg\" alt=\"Open In Colab\"/></a>"
      ]
    },
    {
      "cell_type": "code",
      "execution_count": null,
      "metadata": {
        "id": "RSWNH0eMyIWN",
        "outputId": "35db5e0d-a292-47fc-9da4-f8f7c90e9d16"
      },
      "outputs": [
        {
          "name": "stdout",
          "output_type": "stream",
          "text": [
            "9.746794344808963\n"
          ]
        }
      ],
      "source": [
        "from math import*\n",
        "\n",
        "def euclidean_distance(x,y):\n",
        "\n",
        "  return sqrt(sum(pow(a-b,2) for a, b in zip(x, y)))\n",
        "\n",
        "print(euclidean_distance([0,3,4,5],[7,6,3,-1]))"
      ]
    },
    {
      "cell_type": "code",
      "execution_count": null,
      "metadata": {
        "id": "9czzDxSByIWO",
        "outputId": "ff738b43-f9c2-4f42-8236-118f27f96bae"
      },
      "outputs": [
        {
          "data": {
            "text/plain": [
              "9.746794344808963"
            ]
          },
          "execution_count": 3,
          "metadata": {},
          "output_type": "execute_result"
        }
      ],
      "source": [
        "sqrt(pow((0-7),2)+pow((3-6),2)+pow((4-3),2)+pow((5--1),2))"
      ]
    },
    {
      "cell_type": "code",
      "execution_count": null,
      "metadata": {
        "id": "CGFy9djCyIWO",
        "outputId": "72cb022f-3b9c-42ca-a9cc-68c0ca0cdb07"
      },
      "outputs": [
        {
          "name": "stdout",
          "output_type": "stream",
          "text": [
            "17\n"
          ]
        }
      ],
      "source": [
        "from math import*\n",
        "\n",
        "def manhattan_distance(x,y):\n",
        "\n",
        "  return sum(abs(a-b) for a,b in zip(x,y))\n",
        "\n",
        "print(manhattan_distance([0,3,4,5],[7,6,3,-1]))"
      ]
    },
    {
      "cell_type": "code",
      "execution_count": null,
      "metadata": {
        "id": "o5bPL-piyIWO",
        "outputId": "74a929cc-0092-42e0-f7c1-f7cdb9417612"
      },
      "outputs": [
        {
          "data": {
            "text/plain": [
              "17"
            ]
          },
          "execution_count": 6,
          "metadata": {},
          "output_type": "execute_result"
        }
      ],
      "source": [
        "abs(0-7)+abs(3-6)+abs(4-3)+abs(5--1)"
      ]
    },
    {
      "cell_type": "code",
      "execution_count": null,
      "metadata": {
        "id": "ibHQFiXayIWO",
        "outputId": "ff5803fe-3b6b-4d9a-88c1-ecb0d55e9eef"
      },
      "outputs": [
        {
          "name": "stdout",
          "output_type": "stream",
          "text": [
            "0.363\n"
          ]
        }
      ],
      "source": [
        "from math import*\n",
        "\n",
        "def square_rooted(x):\n",
        "    return round(sqrt(sum([a*a for a in x])),3)\n",
        "\n",
        "def cosine_similarity(x,y):\n",
        "   numerator = sum(a*b for a,b in zip(x,y))\n",
        "   denominator = square_rooted(x)*square_rooted(y)\n",
        "   return round(numerator/float(denominator),3)\n",
        "\n",
        "print(cosine_similarity([0,3,4,5],[7,6,3,-1]))"
      ]
    },
    {
      "cell_type": "code",
      "execution_count": null,
      "metadata": {
        "id": "kZmQHY14yIWO",
        "outputId": "75f85310-d6af-4a90-8c6d-5e6bf7deff96"
      },
      "outputs": [
        {
          "data": {
            "text/plain": [
              "25"
            ]
          },
          "execution_count": 9,
          "metadata": {},
          "output_type": "execute_result"
        }
      ],
      "source": [
        "(0*7)+(3*6)+(4*3)+(5*-1)"
      ]
    },
    {
      "cell_type": "code",
      "execution_count": null,
      "metadata": {
        "id": "z3u8Hh96yIWO",
        "outputId": "732e6761-28a3-4c90-8575-8c82b71f8b3c"
      },
      "outputs": [
        {
          "data": {
            "text/plain": [
              "0.7332355751067665"
            ]
          },
          "execution_count": 21,
          "metadata": {},
          "output_type": "execute_result"
        }
      ],
      "source": [
        "sqrt((0*0)+(3*3)+(4*4)+(5*5))/sqrt((7*7)+(6*6)+(3*3)+(-1*1))"
      ]
    },
    {
      "cell_type": "code",
      "execution_count": null,
      "metadata": {
        "id": "4q3ndVWkyIWO",
        "outputId": "c74f05b1-bb93-447a-f0b8-25ff781ab7cb"
      },
      "outputs": [
        {
          "data": {
            "text/plain": [
              "0.3666177875533832"
            ]
          },
          "execution_count": 22,
          "metadata": {},
          "output_type": "execute_result"
        }
      ],
      "source": [
        "((0*7)+(3*6)+(4*3)+(5*-1))/sqrt((0*0)+(3*3)+(4*4)+(5*5))/sqrt((7*7)+(6*6)+(3*3)+(-1*1))"
      ]
    },
    {
      "cell_type": "code",
      "execution_count": null,
      "metadata": {
        "id": "p9jHEafCyIWP",
        "outputId": "e966db57-e108-45d5-8afc-342767b553a6"
      },
      "outputs": [
        {
          "name": "stdout",
          "output_type": "stream",
          "text": [
            "0.14285714285714285\n"
          ]
        }
      ],
      "source": [
        "from math import*\n",
        "\n",
        "def jaccard_similarity(x,y):\n",
        "\n",
        " intersection_cardinality = len(set.intersection(*[set(x), set(y)]))\n",
        " union_cardinality = len(set.union(*[set(x), set(y)]))\n",
        " return intersection_cardinality/float(union_cardinality)\n",
        "\n",
        "print(jaccard_similarity([0,3,4,5],[7,6,3,-1]))"
      ]
    },
    {
      "cell_type": "code",
      "execution_count": null,
      "metadata": {
        "id": "b_Qea3eQyIWP"
      },
      "outputs": [],
      "source": []
    }
  ],
  "metadata": {
    "kernelspec": {
      "display_name": "Python 3",
      "language": "python",
      "name": "python3"
    },
    "language_info": {
      "codemirror_mode": {
        "name": "ipython",
        "version": 3
      },
      "file_extension": ".py",
      "mimetype": "text/x-python",
      "name": "python",
      "nbconvert_exporter": "python",
      "pygments_lexer": "ipython3",
      "version": "3.7.3"
    },
    "colab": {
      "provenance": [],
      "include_colab_link": true
    }
  },
  "nbformat": 4,
  "nbformat_minor": 0
}