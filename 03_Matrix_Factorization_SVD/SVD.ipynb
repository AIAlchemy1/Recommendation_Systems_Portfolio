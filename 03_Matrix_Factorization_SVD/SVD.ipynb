{
  "cells": [
    {
      "cell_type": "markdown",
      "metadata": {
        "id": "view-in-github",
        "colab_type": "text"
      },
      "source": [
        "<a href=\"https://colab.research.google.com/github/AIAlchemy1/Recommendation_Systems_Portfolio/blob/main/03_Matrix_Factorization_SVD/SVD.ipynb\" target=\"_parent\"><img src=\"https://colab.research.google.com/assets/colab-badge.svg\" alt=\"Open In Colab\"/></a>"
      ]
    },
    {
      "cell_type": "code",
      "execution_count": null,
      "metadata": {
        "id": "Dj-AVApowLOo"
      },
      "outputs": [],
      "source": [
        "from numpy import array\n",
        "from numpy import diag\n",
        "from numpy import dot\n",
        "from scipy.linalg import svd"
      ]
    },
    {
      "cell_type": "code",
      "execution_count": null,
      "metadata": {
        "id": "0VEXLLdxwLOp",
        "outputId": "dcc8a8c9-d7e3-4cdd-a1ff-6dbceeed37ec"
      },
      "outputs": [
        {
          "name": "stdout",
          "output_type": "stream",
          "text": [
            "[[1 2 3]\n",
            " [4 5 6]\n",
            " [7 8 9]]\n"
          ]
        }
      ],
      "source": [
        "# define a matrix that needs to be decomposed thru SVD\n",
        "A = array([[1, 2, 3], [4, 5, 6], [7, 8, 9]])\n",
        "print(A)"
      ]
    },
    {
      "cell_type": "code",
      "execution_count": null,
      "metadata": {
        "id": "gwsgtwmowLOp"
      },
      "outputs": [],
      "source": [
        "# applying Singular-value decomposition\n",
        "U, s, VT = svd(A)"
      ]
    },
    {
      "cell_type": "code",
      "execution_count": null,
      "metadata": {
        "id": "37TK1zTCwLOp",
        "outputId": "02e0d446-3a0d-43ae-96b7-10b23191027f"
      },
      "outputs": [
        {
          "name": "stdout",
          "output_type": "stream",
          "text": [
            "[[-0.21483724  0.88723069  0.40824829]\n",
            " [-0.52058739  0.24964395 -0.81649658]\n",
            " [-0.82633754 -0.38794278  0.40824829]]\n"
          ]
        }
      ],
      "source": [
        "print(U)"
      ]
    },
    {
      "cell_type": "code",
      "execution_count": null,
      "metadata": {
        "id": "U2MRNsMswLOp",
        "outputId": "224ad29a-e22e-454e-dab7-1ddd7718d09e"
      },
      "outputs": [
        {
          "name": "stdout",
          "output_type": "stream",
          "text": [
            "[1.68481034e+01 1.06836951e+00 3.33475287e-16]\n"
          ]
        }
      ],
      "source": [
        "print(s)"
      ]
    },
    {
      "cell_type": "code",
      "execution_count": null,
      "metadata": {
        "id": "1ZZUwktbwLOq",
        "outputId": "02f139fc-5829-45b6-9eb6-86ba8ce023e9"
      },
      "outputs": [
        {
          "name": "stdout",
          "output_type": "stream",
          "text": [
            "[[-0.47967118 -0.57236779 -0.66506441]\n",
            " [-0.77669099 -0.07568647  0.62531805]\n",
            " [-0.40824829  0.81649658 -0.40824829]]\n"
          ]
        }
      ],
      "source": [
        "print(VT)"
      ]
    },
    {
      "cell_type": "code",
      "execution_count": null,
      "metadata": {
        "id": "54dipSPOwLOq"
      },
      "outputs": [],
      "source": [
        "# create n x n Sigma matrix\n",
        "Sigma = diag(s)"
      ]
    },
    {
      "cell_type": "code",
      "execution_count": null,
      "metadata": {
        "id": "vVVK4JrRwLOq",
        "outputId": "258aa6a3-58af-4145-db21-f97b946b52ad"
      },
      "outputs": [
        {
          "name": "stdout",
          "output_type": "stream",
          "text": [
            "[[1.68481034e+01 0.00000000e+00 0.00000000e+00]\n",
            " [0.00000000e+00 1.06836951e+00 0.00000000e+00]\n",
            " [0.00000000e+00 0.00000000e+00 3.33475287e-16]]\n"
          ]
        }
      ],
      "source": [
        "print(Sigma)"
      ]
    },
    {
      "cell_type": "code",
      "execution_count": null,
      "metadata": {
        "id": "ChLwTUKlwLOq",
        "outputId": "bbf43454-146f-4c44-d418-5b277e660071"
      },
      "outputs": [
        {
          "name": "stdout",
          "output_type": "stream",
          "text": [
            "[[1. 2. 3.]\n",
            " [4. 5. 6.]\n",
            " [7. 8. 9.]]\n"
          ]
        }
      ],
      "source": [
        "# reconstruct the matrix from u,s,vt\n",
        "B = U.dot(Sigma.dot(VT))\n",
        "print(B)"
      ]
    },
    {
      "cell_type": "code",
      "execution_count": null,
      "metadata": {
        "id": "0UYpBBujwLOq"
      },
      "outputs": [],
      "source": []
    }
  ],
  "metadata": {
    "kernelspec": {
      "display_name": "Python 3",
      "language": "python",
      "name": "python3"
    },
    "language_info": {
      "codemirror_mode": {
        "name": "ipython",
        "version": 3
      },
      "file_extension": ".py",
      "mimetype": "text/x-python",
      "name": "python",
      "nbconvert_exporter": "python",
      "pygments_lexer": "ipython3",
      "version": "3.7.3"
    },
    "colab": {
      "provenance": [],
      "include_colab_link": true
    }
  },
  "nbformat": 4,
  "nbformat_minor": 0
}